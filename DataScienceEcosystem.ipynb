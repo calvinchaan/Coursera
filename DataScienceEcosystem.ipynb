{
 "cells": [
  {
   "cell_type": "markdown",
   "id": "bc9722cd",
   "metadata": {},
   "source": [
    "# Data Science Tools and Ecosystem"
   ]
  },
  {
   "cell_type": "markdown",
   "id": "eaed4714",
   "metadata": {},
   "source": [
    "In this notebook, Data Science Tools and Ecosystem are summarized."
   ]
  },
  {
   "cell_type": "markdown",
   "id": "df0f92b9",
   "metadata": {},
   "source": [
    "__Objectives__:\n",
    "\n",
    "- List popular languages used for Data Science\n",
    "- List commonly used libraries used for Data science"
   ]
  },
  {
   "cell_type": "markdown",
   "id": "258343a9",
   "metadata": {},
   "source": [
    "Some of the popular languages that Data Scientists use are:\n",
    "\n",
    "    1. Python\n",
    "    2. R\n",
    "    3. SQL\n",
    "    4. Java\n",
    "    5. C++"
   ]
  },
  {
   "cell_type": "markdown",
   "id": "47b8705b",
   "metadata": {},
   "source": [
    "Some of the commonly used libraries used by Data Scientists include:\n",
    "\n",
    "    1. Pandas\n",
    "    2. SciPy\n",
    "    3. Matplotlib\n",
    "    4. NumPy"
   ]
  },
  {
   "cell_type": "markdown",
   "id": "ffa4ecf1",
   "metadata": {},
   "source": [
    "|Data Science Tools|\n",
    "|------------------|\n",
    "|Jupyter Notebooks|\n",
    "|RStudio|\n",
    "|CodePen|"
   ]
  },
  {
   "cell_type": "markdown",
   "id": "73f21eab",
   "metadata": {},
   "source": [
    "### Below are a few examples of evaluating arithmetic expressions in Python.\n"
   ]
  },
  {
   "cell_type": "code",
   "execution_count": 3,
   "id": "616a7344",
   "metadata": {},
   "outputs": [
    {
     "data": {
      "text/plain": [
       "17"
      ]
     },
     "execution_count": 3,
     "metadata": {},
     "output_type": "execute_result"
    }
   ],
   "source": [
    "#This is a simple arithmetic expression to multiply then add integers\n",
    "(3*4)+5"
   ]
  },
  {
   "cell_type": "code",
   "execution_count": 4,
   "id": "0cc9fcc7",
   "metadata": {},
   "outputs": [
    {
     "data": {
      "text/plain": [
       "3.3333333333333335"
      ]
     },
     "execution_count": 4,
     "metadata": {},
     "output_type": "execute_result"
    }
   ],
   "source": [
    "#This will convert 200 Minutes to hours by dividing by 60\n",
    "200/60"
   ]
  },
  {
   "cell_type": "markdown",
   "id": "b1ef7d4f",
   "metadata": {},
   "source": [
    "## Author\n",
    "Calvin Chan"
   ]
  }
 ],
 "metadata": {
  "kernelspec": {
   "display_name": "Python 3 (ipykernel)",
   "language": "python",
   "name": "python3"
  },
  "language_info": {
   "codemirror_mode": {
    "name": "ipython",
    "version": 3
   },
   "file_extension": ".py",
   "mimetype": "text/x-python",
   "name": "python",
   "nbconvert_exporter": "python",
   "pygments_lexer": "ipython3",
   "version": "3.11.5"
  }
 },
 "nbformat": 4,
 "nbformat_minor": 5
}
